{
 "cells": [
  {
   "cell_type": "markdown",
   "metadata": {},
   "source": [
    "# taskvine application basics"
   ]
  },
  {
   "cell_type": "markdown",
   "metadata": {},
   "source": [
    "The module <b> vine_futures </b> allows you to execute your computations as a distributed system, that is, not only using the resources locally available in a computer, but also using remote resources you may have access. It is most effective when you have more work to be computed than resources available, and when that work can be split in independent tasks that run for more than 30 seconds, but less than a day.\n",
    "\n",
    "A <b> vine_futures </b> application consists of two parts:\n",
    "\n",
    "<ul>\n",
    "    <li> Master. The manager is the part we will write in this notebook. The manager is responsible to create the work to be done.\n",
    "    <li> Workers. Workers execute the work created by the manager, and they run in the remote resources. We don't need to write a worker program, since they are the same for all <b> vine_futures </b> applications.\n",
    "\n",
    "In this notebook we will construct our first <b> vine_futures </b> manager. The first need we need to do is to import the python objects we'll need:"
   ]
  },
  {
   "cell_type": "code",
   "execution_count": null,
   "metadata": {},
   "outputs": [],
   "source": [
    "from vine_futures import ManagerFt, FutureTask, FutureTaskError"
   ]
  },
  {
   "cell_type": "markdown",
   "metadata": {},
   "source": [
    "## Creating a queue\n",
    "\n",
    "Next, we need to create a <b> queue </b> to which we will add tasks to be completed:"
   ]
  },
  {
   "cell_type": "code",
   "execution_count": null,
   "metadata": {},
   "outputs": [],
   "source": [
    "q = ManagerFt(name = 'my-vine-app', port = 0, local_worker = {'cores':1})\n",
    "\n",
    "print('queue is accepting connections on port {}'.format(q.port))"
   ]
  },
  {
   "cell_type": "markdown",
   "metadata": {},
   "source": [
    "We created the queue specifying three arguments:\n",
    "<ul>\n",
    "    <li> name: A project name that the workers will use to find where the manager is located so that they can connect to it.\n",
    "    <li> port: Set here to 0 to use any available port. The manager waits for worker connections listening to this port.\n",
    "    <li> local_worker: Since we are testing our first manager, we ask the queue to create a local worker for us. In real applications workers will run in remote resources. (See the last part of this notebook.)\n",
    "</ul>"
   ]
  },
  {
   "cell_type": "markdown",
   "metadata": {},
   "source": [
    "## Running simple tasks\n",
    "\n",
    "Now we create our first task. We simply want to run the unix <b>date</b> command:"
   ]
  },
  {
   "cell_type": "code",
   "execution_count": null,
   "metadata": {},
   "outputs": [],
   "source": [
    "task = FutureTask('/bin/date')\n",
    "q.submit(task)"
   ]
  },
  {
   "cell_type": "markdown",
   "metadata": {},
   "source": [
    "Once submitted, the task is assigned to an available worker. We can ask for its result with: "
   ]
  },
  {
   "cell_type": "code",
   "execution_count": null,
   "metadata": {},
   "outputs": [],
   "source": [
    "if task.result():\n",
    "    print(task.output)"
   ]
  },
  {
   "cell_type": "markdown",
   "metadata": {},
   "source": [
    "### Automatically run code when tasks finish\n",
    "\n",
    "Note that if the task is not finished, then \n",
    "```python\n",
    "task.result()\n",
    "```\n",
    "will block until the task is completed. This is inconvinient, as we do not have a way to know which task will finish next. Rather than wait for results on particular tasks, we can define functions to be executed when the task is completed. These functions (known as callbacks) receive the completed task as an argument. We can add as many callbacks as we want, and they are executed in the order they were added.\n",
    "\n",
    "Once we added the callback, we submit the task as usual and call ```q.join()```, which waits for all submitted tasks to complete."
   ]
  },
  {
   "cell_type": "code",
   "execution_count": null,
   "metadata": {},
   "outputs": [],
   "source": [
    "def my_print_when_done(task):\n",
    "    print('the output of task {} is {}'.format(task.id, task.output))\n",
    "    \n",
    "# we now submit several tasks at the same time:\n",
    "for i in range(5):\n",
    "    task = FutureTask('/bin/date')\n",
    "    task.add_done_callback(my_print_when_done)\n",
    "    q.submit(task)\n",
    "\n",
    "q.join()"
   ]
  },
  {
   "cell_type": "markdown",
   "metadata": {},
   "source": [
    "## Input and output files"
   ]
  },
  {
   "cell_type": "markdown",
   "metadata": {},
   "source": [
    "Up to now our tasks run an executable that already exists in the machine running the worker, and have as result whatever output that command would print to the screen. For more complex tasks, we will need to specify the input and output files needed.\n",
    "\n",
    "For example, we can redirect the output of the command to a file:"
   ]
  },
  {
   "cell_type": "code",
   "execution_count": null,
   "metadata": {},
   "outputs": [],
   "source": [
    "task = FutureTask('/bin/date > my.date')\n",
    "task.specify_output_file('my.date')\n",
    "q.submit(task)\n",
    "\n",
    "# We use task.result() to wait for the task completion.\n",
    "task.result()"
   ]
  },
  {
   "cell_type": "code",
   "execution_count": null,
   "metadata": {},
   "outputs": [],
   "source": [
    "# Once the task finished, we can read the file to see its contents:\n",
    "if task.result():\n",
    "    with open('my.date') as f:\n",
    "        print(f.read())"
   ]
  },
  {
   "cell_type": "markdown",
   "metadata": {},
   "source": [
    "Similarly, we can specify input files. Let's use the output of the previous task as the input of the next example:"
   ]
  },
  {
   "cell_type": "code",
   "execution_count": null,
   "metadata": {},
   "outputs": [],
   "source": [
    "task = FutureTask('/bin/hexdump my.date > my.hexdump')\n",
    "task.specify_input_file('my.date')\n",
    "task.specify_output_file('my.hexdump')\n",
    "q.submit(task)"
   ]
  },
  {
   "cell_type": "code",
   "execution_count": null,
   "metadata": {},
   "outputs": [],
   "source": [
    "# We wait for the task results, and explore the output file:\n",
    "if task.result():\n",
    "    with open('my.hexdump') as f:\n",
    "        print(f.read())"
   ]
  },
  {
   "cell_type": "markdown",
   "metadata": {},
   "source": [
    "## Dealing with errors\n",
    "\n",
    "Sometimes tasks do not generate the expected output files, or input files are not available, or the task fails for some other reason. In such cases, ```task.result()``` will throw an exception:\n"
   ]
  },
  {
   "cell_type": "code",
   "execution_count": null,
   "metadata": {},
   "outputs": [],
   "source": [
    "task = FutureTask('./my-non-existent-executable > output')\n",
    "task.specify_input_file('my-non-existent-executable')\n",
    "q.submit(task)\n",
    "\n",
    "try:\n",
    "    task.result()\n",
    "except FutureTaskError as e:\n",
    "    print('task {} had an error: {}'.format(task.id, e))"
   ]
  },
  {
   "cell_type": "markdown",
   "metadata": {},
   "source": [
    "## Specifying environments"
   ]
  },
  {
   "cell_type": "code",
   "execution_count": null,
   "metadata": {},
   "outputs": [],
   "source": [
    "# Create a script that will be executed remotely\n",
    "\n",
    "with open('my-python-script', 'w') as f:\n",
    "    f.write(\"\"\"#! /usr/bin/env python\n",
    "import sys\n",
    "print('hello from version:\\\\n{}'.format(sys.version))\n",
    "\n",
    "\"\"\")\n",
    "    \n",
    "import os\n",
    "os.chmod('my-python-script', 0o755)"
   ]
  },
  {
   "cell_type": "code",
   "execution_count": null,
   "metadata": {},
   "outputs": [],
   "source": [
    "# Run the environment using a conda environment\n",
    "task = FutureTask('./my-python-script')\n",
    "task.specify_input_file('my-python-script')\n",
    "task.specify_runtime_env('conda', 'my-conda-env.tar.gz')\n",
    "q.submit(task)\n",
    "\n",
    "q.join()\n",
    "print(task.output)\n",
    "print(\"It took {} seconds\".format((task.execute_cmd_finish - task.execute_cmd_start)/1e6))"
   ]
  },
  {
   "cell_type": "code",
   "execution_count": null,
   "metadata": {},
   "outputs": [],
   "source": [
    "# Run the environment using a singularity image\n",
    "task = FutureTask('./my-python-script')\n",
    "task.specify_input_file('my-python-script')\n",
    "task.specify_runtime_env('singularity', 'my-singularity.img')\n",
    "q.submit(task)\n",
    "\n",
    "q.join()\n",
    "print(task.output)\n",
    "print(\"It took {} seconds\".format((task.execute_cmd_finish - task.execute_cmd_start)/1e6))"
   ]
  },
  {
   "cell_type": "code",
   "execution_count": null,
   "metadata": {},
   "outputs": [],
   "source": []
  }
 ],
 "metadata": {
  "kernelspec": {
   "display_name": "Python 3",
   "language": "python",
   "name": "python3"
  },
  "language_info": {
   "codemirror_mode": {
    "name": "ipython",
    "version": 3
   },
   "file_extension": ".py",
   "mimetype": "text/x-python",
   "name": "python",
   "nbconvert_exporter": "python",
   "pygments_lexer": "ipython3",
   "version": "3.7.3"
  }
 },
 "nbformat": 4,
 "nbformat_minor": 2
}
